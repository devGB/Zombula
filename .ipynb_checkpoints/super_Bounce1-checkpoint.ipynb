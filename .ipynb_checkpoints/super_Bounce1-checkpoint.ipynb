{
 "cells": [
  {
   "cell_type": "code",
   "execution_count": null,
   "metadata": {},
   "outputs": [],
   "source": [
    "import pygame, sys\n",
    "pygame.init()\n",
    "screen = pygame.display.set_mode([640,480])\n",
    "background = pygame.Surface(screen.get_size())\n",
    "background.fill([255,255,255])\n",
    "clock = pygame.time.Clock()\n",
    "class Ball(pygame.sprite.Sprite):\n",
    "\tdef __init__(self, image_file, speed, location):\n",
    "\t\tpygame.sprite.Sprite.__init__(self) #call sprite initializer\n",
    "\t\tself.image = pygame.image.load(image_file)\n",
    "\t\tself.rect = self.image.get_rect()\n",
    "\t\tself.rect.left, self.rect.top = location\n",
    "\t\tself.speed = speed\n",
    "\n",
    "\tdef move(self):\n",
    "\t\tif self.rect.left <= screen.get_rect().left or \\\n",
    "\t\t\t\tself.rect.right >= screen.get_rect().right:\n",
    "\t\t\tself.speed[0] = - self.speed[0]\n",
    "\t\tnewpos = self.rect.move(self.speed)\n",
    "\t\tself.rect = newpos\n",
    "\n",
    "my_ball = Ball('Bouncy_ball.png', [10,0], [20, 20])\n",
    "while True:\n",
    "\n",
    "\tfor event in pygame.event.get():\n",
    "\t    if event.type == pygame.QUIT:\n",
    "\t        sys.exit()\n",
    "\n",
    "\tclock.tick(30)\n",
    "\tscreen.blit(background, (0, 0))\n",
    "\tmy_ball.move()\n",
    "\tscreen.blit(my_ball.image, my_ball.rect)\n",
    "\tpygame.display.flip()"
   ]
  }
 ],
 "metadata": {
  "kernelspec": {
   "display_name": "Python 2",
   "language": "python",
   "name": "python2"
  },
  "language_info": {
   "codemirror_mode": {
    "name": "ipython",
    "version": 2
   },
   "file_extension": ".py",
   "mimetype": "text/x-python",
   "name": "python",
   "nbconvert_exporter": "python",
   "pygments_lexer": "ipython2",
   "version": "2.7.13"
  }
 },
 "nbformat": 4,
 "nbformat_minor": 2
}
