{
 "cells": [
  {
   "cell_type": "code",
   "execution_count": 1,
   "metadata": {},
   "outputs": [
    {
     "ename": "SystemExit",
     "evalue": "",
     "output_type": "error",
     "traceback": [
      "An exception has occurred, use %tb to see the full traceback.\n",
      "\u001b[0;31mSystemExit\u001b[0m\n"
     ]
    },
    {
     "name": "stderr",
     "output_type": "stream",
     "text": [
      "/anaconda/envs/ski2/lib/python2.7/site-packages/IPython/core/interactiveshell.py:2890: UserWarning: To exit: use 'exit', 'quit', or Ctrl-D.\n",
      "  warn(\"To exit: use 'exit', 'quit', or Ctrl-D.\", stacklevel=1)\n"
     ]
    }
   ],
   "source": [
    "import pygame, sys\n",
    "pygame.init()\n",
    "screen = pygame.display.set_mode([640,480])\n",
    "background = pygame.Surface(screen.get_size())\n",
    "background.fill([255, 255, 255])\n",
    "clock = pygame.time.Clock()\n",
    "class Ball(pygame.sprite.Sprite):\n",
    "    def __init__(self, image_file, speed, location):\n",
    "        pygame.sprite.Sprite.__init__(self) #call Sprite initializer\n",
    "        self.image = pygame.image.load(image_file)\n",
    "        self.rect = self.image.get_rect()\n",
    "        self.rect.left, self.rect.top = location\n",
    "        self.speed = speed\n",
    "        \n",
    "    def move(self):\n",
    "        if self.rect.left <= screen.get_rect().left or \\\n",
    "                self.rect.right >= screen.get_rect().right:\n",
    "            self.speed[0] = - self.speed[0]\n",
    "        newpos = self.rect.move(self.speed)\n",
    "        self.rect = newpos\n",
    "       \n",
    "my_ball = Ball('beach_ball.png', [10,0],  [20, 20])\n",
    "while True:\n",
    "    for event in pygame.event.get():\n",
    "        if event.type == pygame.QUIT:\n",
    "            sys.exit()\n",
    "        elif event.type == pygame.KEYDOWN:\n",
    "            if event.key == pygame.K_UP:\n",
    "                my_ball.rect.top = my_ball.rect.top - 10\n",
    "            elif event.key == pygame.K_DOWN:\n",
    "                my_ball.rect.top = my_ball.rect.top + 10\n",
    "                \n",
    "                \n",
    "    clock.tick(30)\n",
    "    screen.blit(background, (0, 0))\n",
    "    my_ball.move()\n",
    "    screen.blit(my_ball.image, my_ball.rect)\n",
    "    pygame.display.flip()"
   ]
  },
  {
   "cell_type": "code",
   "execution_count": null,
   "metadata": {},
   "outputs": [],
   "source": []
  },
  {
   "cell_type": "code",
   "execution_count": null,
   "metadata": {},
   "outputs": [],
   "source": []
  },
  {
   "cell_type": "code",
   "execution_count": null,
   "metadata": {},
   "outputs": [],
   "source": []
  },
  {
   "cell_type": "code",
   "execution_count": null,
   "metadata": {},
   "outputs": [],
   "source": []
  }
 ],
 "metadata": {
  "kernelspec": {
   "display_name": "Python 2",
   "language": "python",
   "name": "python2"
  },
  "language_info": {
   "codemirror_mode": {
    "name": "ipython",
    "version": 2
   },
   "file_extension": ".py",
   "mimetype": "text/x-python",
   "name": "python",
   "nbconvert_exporter": "python",
   "pygments_lexer": "ipython2",
   "version": "2.7.13"
  }
 },
 "nbformat": 4,
 "nbformat_minor": 2
}
