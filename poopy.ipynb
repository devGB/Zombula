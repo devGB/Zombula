{
 "cells": [
  {
   "cell_type": "code",
   "execution_count": 3,
   "metadata": {},
   "outputs": [
    {
     "name": "stdout",
     "output_type": "stream",
     "text": [
      "\n",
      "i = 1\n",
      "Aloha\n",
      "how are you to day?\n",
      "\n",
      "i = 2\n",
      "Aloha\n",
      "how are you to day?\n",
      "\n",
      "i = 3\n",
      "Aloha\n",
      "\n",
      "i = 4\n",
      "Aloha\n",
      "how are you to day?\n",
      "\n",
      "i = 5\n",
      "Aloha\n",
      "how are you to day?\n"
     ]
    }
   ],
   "source": [
    "for i in range (1, 6):\n",
    " \tprint('')\n",
    " \tprint('i = '+ str(i))\n",
    " \tprint('Aloha')\n",
    " \tif i == 3:\n",
    " \t\tcontinue\n",
    " \tprint ('how are you to day?')"
   ]
  },
  {
   "cell_type": "code",
   "execution_count": null,
   "metadata": {},
   "outputs": [],
   "source": []
  }
 ],
 "metadata": {
  "kernelspec": {
   "display_name": "Python 2",
   "language": "python",
   "name": "python2"
  },
  "language_info": {
   "codemirror_mode": {
    "name": "ipython",
    "version": 2
   },
   "file_extension": ".py",
   "mimetype": "text/x-python",
   "name": "python",
   "nbconvert_exporter": "python",
   "pygments_lexer": "ipython2",
   "version": "2.7.13"
  }
 },
 "nbformat": 4,
 "nbformat_minor": 2
}
