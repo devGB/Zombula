{
 "cells": [
  {
   "cell_type": "code",
   "execution_count": null,
   "metadata": {},
   "outputs": [],
   "source": [
    "import pygame, sys\n",
    "pygame.init()\n",
    "screen = pygame.display.set_mode([640,480])\n",
    "background = pygame.Surface(screen.get_size())\n",
    "background.fill([255, 255, 255])\n",
    "clock = pygame.time.Clock()\n",
    "\n",
    "class Ball(pygame.sprite.Sprite):\n",
    "    def __init__(self, image_file)"
   ]
  }
 ],
 "metadata": {
  "kernelspec": {
   "display_name": "Python 2",
   "language": "python",
   "name": "python2"
  },
  "language_info": {
   "codemirror_mode": {
    "name": "ipython",
    "version": 2
   },
   "file_extension": ".py",
   "mimetype": "text/x-python",
   "name": "python",
   "nbconvert_exporter": "python",
   "pygments_lexer": "ipython2",
   "version": "2.7.13"
  }
 },
 "nbformat": 4,
 "nbformat_minor": 2
}
